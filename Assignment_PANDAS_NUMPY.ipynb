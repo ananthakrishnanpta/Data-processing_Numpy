{
  "cells": [
    {
      "cell_type": "markdown",
      "metadata": {
        "id": "view-in-github",
        "colab_type": "text"
      },
      "source": [
        "<a href=\"https://colab.research.google.com/github/ananthakrishnanpta/Data-processing_Numpy/blob/main/Assignment_PANDAS_NUMPY.ipynb\" target=\"_parent\"><img src=\"https://colab.research.google.com/assets/colab-badge.svg\" alt=\"Open In Colab\"/></a>"
      ]
    },
    {
      "cell_type": "markdown",
      "metadata": {
        "id": "Q4Kgez1gsol1"
      },
      "source": [
        "## 1) Generate an array of zeroes using inbuilt numpy function."
      ]
    },
    {
      "cell_type": "code",
      "execution_count": 1,
      "metadata": {
        "colab": {
          "base_uri": "https://localhost:8080/"
        },
        "id": "3cG2LDB1sol5",
        "outputId": "bdcc8b07-1b5f-41dc-86de-1a2397dc744d"
      },
      "outputs": [
        {
          "output_type": "stream",
          "name": "stdout",
          "text": [
            "[0. 0. 0.]\n"
          ]
        }
      ],
      "source": [
        "import numpy as np\n",
        "\n",
        "a = np.zeros(3)\n",
        "print(a)"
      ]
    },
    {
      "cell_type": "markdown",
      "metadata": {
        "id": "iUe6Cvadsol5"
      },
      "source": [
        "## 2) Run the given code and find the dot product of both arrays."
      ]
    },
    {
      "cell_type": "code",
      "execution_count": 2,
      "metadata": {
        "colab": {
          "base_uri": "https://localhost:8080/"
        },
        "id": "2MwOSbbIsol6",
        "outputId": "33f95924-55b3-4501-9bf1-01db794e5492"
      },
      "outputs": [
        {
          "output_type": "stream",
          "name": "stdout",
          "text": [
            "[[6 4 5 4]\n",
            " [4 4 4 9]\n",
            " [8 3 7 9]]\n",
            "[[6 6 4]\n",
            " [6 5 4]\n",
            " [6 5 8]\n",
            " [4 3 3]]\n"
          ]
        }
      ],
      "source": [
        "import numpy as np\n",
        "a = np.random.randint(2,10, (3,4))\n",
        "b = np.random.randint(2,10, (4,3))\n",
        "print(a)\n",
        "print(b)"
      ]
    },
    {
      "cell_type": "code",
      "execution_count": 3,
      "metadata": {
        "colab": {
          "base_uri": "https://localhost:8080/"
        },
        "id": "59beCf0Zsol8",
        "outputId": "418613ca-237a-4f7d-c112-056fae043e0c"
      },
      "outputs": [
        {
          "output_type": "execute_result",
          "data": {
            "text/plain": [
              "array([[106,  93,  92],\n",
              "       [108,  91,  91],\n",
              "       [144, 125, 127]])"
            ]
          },
          "metadata": {},
          "execution_count": 3
        }
      ],
      "source": [
        "a.dot(b)"
      ]
    },
    {
      "cell_type": "code",
      "execution_count": 4,
      "metadata": {
        "colab": {
          "base_uri": "https://localhost:8080/"
        },
        "id": "mrnR3CbDsol9",
        "outputId": "8d629bed-3fea-4451-a1ea-0df0e1e04c9b"
      },
      "outputs": [
        {
          "output_type": "stream",
          "name": "stdout",
          "text": [
            "[[106  93  92]\n",
            " [108  91  91]\n",
            " [144 125 127]]\n"
          ]
        }
      ],
      "source": [
        "#Your code here\n",
        "print(np.dot(a,b))\n"
      ]
    },
    {
      "cell_type": "markdown",
      "metadata": {
        "id": "L5bPL2mSFO0W"
      },
      "source": [
        "## 3)Read the csv file provided using pandas and display the first 5 entries"
      ]
    },
    {
      "cell_type": "code",
      "execution_count": 5,
      "metadata": {
        "colab": {
          "base_uri": "https://localhost:8080/"
        },
        "id": "dudpfTh1sol9",
        "outputId": "f2b3d780-9bcb-4698-ea0f-5268ae76541a"
      },
      "outputs": [
        {
          "output_type": "stream",
          "name": "stdout",
          "text": [
            "Mounted at /content/drive\n"
          ]
        }
      ],
      "source": [
        "from google.colab import drive\n",
        "drive.mount('/content/drive')\n",
        "\n",
        "import pandas as pd\n",
        "\n",
        "file1 = pd.read_csv('/content/drive/MyDrive/Colab Notebooks/techis-ds-wiki/DS/Step 1-4 Data Processing/03_Assignment/data.csv')"
      ]
    },
    {
      "cell_type": "code",
      "source": [
        "file1.head()"
      ],
      "metadata": {
        "colab": {
          "base_uri": "https://localhost:8080/",
          "height": 204
        },
        "id": "ya7PLaxltmF7",
        "outputId": "a67157a4-3463-4f52-d667-772f150762f4"
      },
      "execution_count": 6,
      "outputs": [
        {
          "output_type": "execute_result",
          "data": {
            "text/html": [
              "\n",
              "  <div id=\"df-bc65bb31-2e5d-41fd-9fcb-ae764f787453\">\n",
              "    <div class=\"colab-df-container\">\n",
              "      <div>\n",
              "<style scoped>\n",
              "    .dataframe tbody tr th:only-of-type {\n",
              "        vertical-align: middle;\n",
              "    }\n",
              "\n",
              "    .dataframe tbody tr th {\n",
              "        vertical-align: top;\n",
              "    }\n",
              "\n",
              "    .dataframe thead th {\n",
              "        text-align: right;\n",
              "    }\n",
              "</style>\n",
              "<table border=\"1\" class=\"dataframe\">\n",
              "  <thead>\n",
              "    <tr style=\"text-align: right;\">\n",
              "      <th></th>\n",
              "      <th>OBJECTID</th>\n",
              "      <th>UNIT_NAME</th>\n",
              "      <th>DESCRIPTION</th>\n",
              "      <th>ACRES</th>\n",
              "      <th>SHAPE.AREA</th>\n",
              "      <th>SHAPE.LEN</th>\n",
              "    </tr>\n",
              "  </thead>\n",
              "  <tbody>\n",
              "    <tr>\n",
              "      <th>0</th>\n",
              "      <td>21</td>\n",
              "      <td>Fort Stevenson State Park</td>\n",
              "      <td>State Park</td>\n",
              "      <td>586.48</td>\n",
              "      <td>0.000284</td>\n",
              "      <td>0.135641</td>\n",
              "    </tr>\n",
              "    <tr>\n",
              "      <th>1</th>\n",
              "      <td>22</td>\n",
              "      <td>Beaver Lake State Park</td>\n",
              "      <td>State Park</td>\n",
              "      <td>273.16</td>\n",
              "      <td>0.000129</td>\n",
              "      <td>0.080067</td>\n",
              "    </tr>\n",
              "    <tr>\n",
              "      <th>2</th>\n",
              "      <td>23</td>\n",
              "      <td>Fort Abraham Lincoln State Park</td>\n",
              "      <td>State Park</td>\n",
              "      <td>836.47</td>\n",
              "      <td>0.000399</td>\n",
              "      <td>0.119868</td>\n",
              "    </tr>\n",
              "    <tr>\n",
              "      <th>3</th>\n",
              "      <td>24</td>\n",
              "      <td>Fort Ransom State Park</td>\n",
              "      <td>State Park</td>\n",
              "      <td>933.78</td>\n",
              "      <td>0.000444</td>\n",
              "      <td>0.128733</td>\n",
              "    </tr>\n",
              "    <tr>\n",
              "      <th>4</th>\n",
              "      <td>25</td>\n",
              "      <td>Grahams Island State Park</td>\n",
              "      <td>State Park</td>\n",
              "      <td>959.33</td>\n",
              "      <td>0.000469</td>\n",
              "      <td>0.125546</td>\n",
              "    </tr>\n",
              "  </tbody>\n",
              "</table>\n",
              "</div>\n",
              "      <button class=\"colab-df-convert\" onclick=\"convertToInteractive('df-bc65bb31-2e5d-41fd-9fcb-ae764f787453')\"\n",
              "              title=\"Convert this dataframe to an interactive table.\"\n",
              "              style=\"display:none;\">\n",
              "        \n",
              "  <svg xmlns=\"http://www.w3.org/2000/svg\" height=\"24px\"viewBox=\"0 0 24 24\"\n",
              "       width=\"24px\">\n",
              "    <path d=\"M0 0h24v24H0V0z\" fill=\"none\"/>\n",
              "    <path d=\"M18.56 5.44l.94 2.06.94-2.06 2.06-.94-2.06-.94-.94-2.06-.94 2.06-2.06.94zm-11 1L8.5 8.5l.94-2.06 2.06-.94-2.06-.94L8.5 2.5l-.94 2.06-2.06.94zm10 10l.94 2.06.94-2.06 2.06-.94-2.06-.94-.94-2.06-.94 2.06-2.06.94z\"/><path d=\"M17.41 7.96l-1.37-1.37c-.4-.4-.92-.59-1.43-.59-.52 0-1.04.2-1.43.59L10.3 9.45l-7.72 7.72c-.78.78-.78 2.05 0 2.83L4 21.41c.39.39.9.59 1.41.59.51 0 1.02-.2 1.41-.59l7.78-7.78 2.81-2.81c.8-.78.8-2.07 0-2.86zM5.41 20L4 18.59l7.72-7.72 1.47 1.35L5.41 20z\"/>\n",
              "  </svg>\n",
              "      </button>\n",
              "      \n",
              "  <style>\n",
              "    .colab-df-container {\n",
              "      display:flex;\n",
              "      flex-wrap:wrap;\n",
              "      gap: 12px;\n",
              "    }\n",
              "\n",
              "    .colab-df-convert {\n",
              "      background-color: #E8F0FE;\n",
              "      border: none;\n",
              "      border-radius: 50%;\n",
              "      cursor: pointer;\n",
              "      display: none;\n",
              "      fill: #1967D2;\n",
              "      height: 32px;\n",
              "      padding: 0 0 0 0;\n",
              "      width: 32px;\n",
              "    }\n",
              "\n",
              "    .colab-df-convert:hover {\n",
              "      background-color: #E2EBFA;\n",
              "      box-shadow: 0px 1px 2px rgba(60, 64, 67, 0.3), 0px 1px 3px 1px rgba(60, 64, 67, 0.15);\n",
              "      fill: #174EA6;\n",
              "    }\n",
              "\n",
              "    [theme=dark] .colab-df-convert {\n",
              "      background-color: #3B4455;\n",
              "      fill: #D2E3FC;\n",
              "    }\n",
              "\n",
              "    [theme=dark] .colab-df-convert:hover {\n",
              "      background-color: #434B5C;\n",
              "      box-shadow: 0px 1px 3px 1px rgba(0, 0, 0, 0.15);\n",
              "      filter: drop-shadow(0px 1px 2px rgba(0, 0, 0, 0.3));\n",
              "      fill: #FFFFFF;\n",
              "    }\n",
              "  </style>\n",
              "\n",
              "      <script>\n",
              "        const buttonEl =\n",
              "          document.querySelector('#df-bc65bb31-2e5d-41fd-9fcb-ae764f787453 button.colab-df-convert');\n",
              "        buttonEl.style.display =\n",
              "          google.colab.kernel.accessAllowed ? 'block' : 'none';\n",
              "\n",
              "        async function convertToInteractive(key) {\n",
              "          const element = document.querySelector('#df-bc65bb31-2e5d-41fd-9fcb-ae764f787453');\n",
              "          const dataTable =\n",
              "            await google.colab.kernel.invokeFunction('convertToInteractive',\n",
              "                                                     [key], {});\n",
              "          if (!dataTable) return;\n",
              "\n",
              "          const docLinkHtml = 'Like what you see? Visit the ' +\n",
              "            '<a target=\"_blank\" href=https://colab.research.google.com/notebooks/data_table.ipynb>data table notebook</a>'\n",
              "            + ' to learn more about interactive tables.';\n",
              "          element.innerHTML = '';\n",
              "          dataTable['output_type'] = 'display_data';\n",
              "          await google.colab.output.renderOutput(dataTable, element);\n",
              "          const docLink = document.createElement('div');\n",
              "          docLink.innerHTML = docLinkHtml;\n",
              "          element.appendChild(docLink);\n",
              "        }\n",
              "      </script>\n",
              "    </div>\n",
              "  </div>\n",
              "  "
            ],
            "text/plain": [
              "   OBJECTID                        UNIT_NAME  ... SHAPE.AREA  SHAPE.LEN\n",
              "0        21        Fort Stevenson State Park  ...   0.000284   0.135641\n",
              "1        22           Beaver Lake State Park  ...   0.000129   0.080067\n",
              "2        23  Fort Abraham Lincoln State Park  ...   0.000399   0.119868\n",
              "3        24           Fort Ransom State Park  ...   0.000444   0.128733\n",
              "4        25        Grahams Island State Park  ...   0.000469   0.125546\n",
              "\n",
              "[5 rows x 6 columns]"
            ]
          },
          "metadata": {},
          "execution_count": 6
        }
      ]
    },
    {
      "cell_type": "markdown",
      "metadata": {
        "id": "iwUgjNlhFe_G"
      },
      "source": [
        "## 4)Describe the data with all features."
      ]
    },
    {
      "cell_type": "code",
      "execution_count": 7,
      "metadata": {
        "colab": {
          "base_uri": "https://localhost:8080/",
          "height": 297
        },
        "id": "AMT8gpjtsol-",
        "outputId": "df694eb1-a1ea-4740-e0cd-5378f06306b5"
      },
      "outputs": [
        {
          "output_type": "execute_result",
          "data": {
            "text/html": [
              "\n",
              "  <div id=\"df-993cc635-a17f-4387-8b2f-c9afddbbad35\">\n",
              "    <div class=\"colab-df-container\">\n",
              "      <div>\n",
              "<style scoped>\n",
              "    .dataframe tbody tr th:only-of-type {\n",
              "        vertical-align: middle;\n",
              "    }\n",
              "\n",
              "    .dataframe tbody tr th {\n",
              "        vertical-align: top;\n",
              "    }\n",
              "\n",
              "    .dataframe thead th {\n",
              "        text-align: right;\n",
              "    }\n",
              "</style>\n",
              "<table border=\"1\" class=\"dataframe\">\n",
              "  <thead>\n",
              "    <tr style=\"text-align: right;\">\n",
              "      <th></th>\n",
              "      <th>OBJECTID</th>\n",
              "      <th>ACRES</th>\n",
              "      <th>SHAPE.AREA</th>\n",
              "      <th>SHAPE.LEN</th>\n",
              "    </tr>\n",
              "  </thead>\n",
              "  <tbody>\n",
              "    <tr>\n",
              "      <th>count</th>\n",
              "      <td>25.000000</td>\n",
              "      <td>25.000000</td>\n",
              "      <td>25.000000</td>\n",
              "      <td>25.000000</td>\n",
              "    </tr>\n",
              "    <tr>\n",
              "      <th>mean</th>\n",
              "      <td>33.000000</td>\n",
              "      <td>724.134400</td>\n",
              "      <td>0.000352</td>\n",
              "      <td>0.109863</td>\n",
              "    </tr>\n",
              "    <tr>\n",
              "      <th>std</th>\n",
              "      <td>7.359801</td>\n",
              "      <td>1275.490247</td>\n",
              "      <td>0.000617</td>\n",
              "      <td>0.089073</td>\n",
              "    </tr>\n",
              "    <tr>\n",
              "      <th>min</th>\n",
              "      <td>21.000000</td>\n",
              "      <td>11.400000</td>\n",
              "      <td>0.000005</td>\n",
              "      <td>0.009396</td>\n",
              "    </tr>\n",
              "    <tr>\n",
              "      <th>25%</th>\n",
              "      <td>27.000000</td>\n",
              "      <td>72.300000</td>\n",
              "      <td>0.000034</td>\n",
              "      <td>0.033885</td>\n",
              "    </tr>\n",
              "    <tr>\n",
              "      <th>50%</th>\n",
              "      <td>33.000000</td>\n",
              "      <td>524.810000</td>\n",
              "      <td>0.000256</td>\n",
              "      <td>0.087192</td>\n",
              "    </tr>\n",
              "    <tr>\n",
              "      <th>75%</th>\n",
              "      <td>39.000000</td>\n",
              "      <td>836.470000</td>\n",
              "      <td>0.000399</td>\n",
              "      <td>0.145220</td>\n",
              "    </tr>\n",
              "    <tr>\n",
              "      <th>max</th>\n",
              "      <td>45.000000</td>\n",
              "      <td>6492.930000</td>\n",
              "      <td>0.003136</td>\n",
              "      <td>0.338800</td>\n",
              "    </tr>\n",
              "  </tbody>\n",
              "</table>\n",
              "</div>\n",
              "      <button class=\"colab-df-convert\" onclick=\"convertToInteractive('df-993cc635-a17f-4387-8b2f-c9afddbbad35')\"\n",
              "              title=\"Convert this dataframe to an interactive table.\"\n",
              "              style=\"display:none;\">\n",
              "        \n",
              "  <svg xmlns=\"http://www.w3.org/2000/svg\" height=\"24px\"viewBox=\"0 0 24 24\"\n",
              "       width=\"24px\">\n",
              "    <path d=\"M0 0h24v24H0V0z\" fill=\"none\"/>\n",
              "    <path d=\"M18.56 5.44l.94 2.06.94-2.06 2.06-.94-2.06-.94-.94-2.06-.94 2.06-2.06.94zm-11 1L8.5 8.5l.94-2.06 2.06-.94-2.06-.94L8.5 2.5l-.94 2.06-2.06.94zm10 10l.94 2.06.94-2.06 2.06-.94-2.06-.94-.94-2.06-.94 2.06-2.06.94z\"/><path d=\"M17.41 7.96l-1.37-1.37c-.4-.4-.92-.59-1.43-.59-.52 0-1.04.2-1.43.59L10.3 9.45l-7.72 7.72c-.78.78-.78 2.05 0 2.83L4 21.41c.39.39.9.59 1.41.59.51 0 1.02-.2 1.41-.59l7.78-7.78 2.81-2.81c.8-.78.8-2.07 0-2.86zM5.41 20L4 18.59l7.72-7.72 1.47 1.35L5.41 20z\"/>\n",
              "  </svg>\n",
              "      </button>\n",
              "      \n",
              "  <style>\n",
              "    .colab-df-container {\n",
              "      display:flex;\n",
              "      flex-wrap:wrap;\n",
              "      gap: 12px;\n",
              "    }\n",
              "\n",
              "    .colab-df-convert {\n",
              "      background-color: #E8F0FE;\n",
              "      border: none;\n",
              "      border-radius: 50%;\n",
              "      cursor: pointer;\n",
              "      display: none;\n",
              "      fill: #1967D2;\n",
              "      height: 32px;\n",
              "      padding: 0 0 0 0;\n",
              "      width: 32px;\n",
              "    }\n",
              "\n",
              "    .colab-df-convert:hover {\n",
              "      background-color: #E2EBFA;\n",
              "      box-shadow: 0px 1px 2px rgba(60, 64, 67, 0.3), 0px 1px 3px 1px rgba(60, 64, 67, 0.15);\n",
              "      fill: #174EA6;\n",
              "    }\n",
              "\n",
              "    [theme=dark] .colab-df-convert {\n",
              "      background-color: #3B4455;\n",
              "      fill: #D2E3FC;\n",
              "    }\n",
              "\n",
              "    [theme=dark] .colab-df-convert:hover {\n",
              "      background-color: #434B5C;\n",
              "      box-shadow: 0px 1px 3px 1px rgba(0, 0, 0, 0.15);\n",
              "      filter: drop-shadow(0px 1px 2px rgba(0, 0, 0, 0.3));\n",
              "      fill: #FFFFFF;\n",
              "    }\n",
              "  </style>\n",
              "\n",
              "      <script>\n",
              "        const buttonEl =\n",
              "          document.querySelector('#df-993cc635-a17f-4387-8b2f-c9afddbbad35 button.colab-df-convert');\n",
              "        buttonEl.style.display =\n",
              "          google.colab.kernel.accessAllowed ? 'block' : 'none';\n",
              "\n",
              "        async function convertToInteractive(key) {\n",
              "          const element = document.querySelector('#df-993cc635-a17f-4387-8b2f-c9afddbbad35');\n",
              "          const dataTable =\n",
              "            await google.colab.kernel.invokeFunction('convertToInteractive',\n",
              "                                                     [key], {});\n",
              "          if (!dataTable) return;\n",
              "\n",
              "          const docLinkHtml = 'Like what you see? Visit the ' +\n",
              "            '<a target=\"_blank\" href=https://colab.research.google.com/notebooks/data_table.ipynb>data table notebook</a>'\n",
              "            + ' to learn more about interactive tables.';\n",
              "          element.innerHTML = '';\n",
              "          dataTable['output_type'] = 'display_data';\n",
              "          await google.colab.output.renderOutput(dataTable, element);\n",
              "          const docLink = document.createElement('div');\n",
              "          docLink.innerHTML = docLinkHtml;\n",
              "          element.appendChild(docLink);\n",
              "        }\n",
              "      </script>\n",
              "    </div>\n",
              "  </div>\n",
              "  "
            ],
            "text/plain": [
              "        OBJECTID        ACRES  SHAPE.AREA  SHAPE.LEN\n",
              "count  25.000000    25.000000   25.000000  25.000000\n",
              "mean   33.000000   724.134400    0.000352   0.109863\n",
              "std     7.359801  1275.490247    0.000617   0.089073\n",
              "min    21.000000    11.400000    0.000005   0.009396\n",
              "25%    27.000000    72.300000    0.000034   0.033885\n",
              "50%    33.000000   524.810000    0.000256   0.087192\n",
              "75%    39.000000   836.470000    0.000399   0.145220\n",
              "max    45.000000  6492.930000    0.003136   0.338800"
            ]
          },
          "metadata": {},
          "execution_count": 7
        }
      ],
      "source": [
        "file1.describe()"
      ]
    },
    {
      "cell_type": "markdown",
      "metadata": {
        "id": "PGjhU9pNFnt8"
      },
      "source": [
        "## 5)Find the total count of missing values for each feature."
      ]
    },
    {
      "cell_type": "code",
      "execution_count": 9,
      "metadata": {
        "colab": {
          "base_uri": "https://localhost:8080/"
        },
        "id": "kHVgUJLxsol_",
        "outputId": "c1ceeffb-97a2-426d-8060-48fa38b2d180"
      },
      "outputs": [
        {
          "output_type": "stream",
          "name": "stdout",
          "text": [
            "OBJECTID       0\n",
            "UNIT_NAME      0\n",
            "DESCRIPTION    0\n",
            "ACRES          0\n",
            "SHAPE.AREA     0\n",
            "SHAPE.LEN      0\n",
            "dtype: int64\n"
          ]
        }
      ],
      "source": [
        "print(file1.isnull().sum())"
      ]
    },
    {
      "cell_type": "markdown",
      "metadata": {
        "id": "l6cpw8FTF26u"
      },
      "source": [
        "## 6)Display all the unique values from the 'DESCRIPTION’ column."
      ]
    },
    {
      "cell_type": "code",
      "execution_count": 10,
      "metadata": {
        "colab": {
          "base_uri": "https://localhost:8080/"
        },
        "id": "mSSj5eD0sol_",
        "outputId": "162a4de6-f8aa-4ab5-bc00-ec87efef0f79"
      },
      "outputs": [
        {
          "output_type": "execute_result",
          "data": {
            "text/plain": [
              "array(['State Park', 'Interpretive Center', 'State Recreation Area',\n",
              "       'State Natural Area', 'State Nature Preserve'], dtype=object)"
            ]
          },
          "metadata": {},
          "execution_count": 10
        }
      ],
      "source": [
        "file1.DESCRIPTION.unique()"
      ]
    },
    {
      "cell_type": "markdown",
      "metadata": {
        "id": "drtebj1YHY_v"
      },
      "source": [
        "## 7)Create a grouped table usin 'DESCRIPTION' as the grouping columns with the means of all the other columns."
      ]
    },
    {
      "cell_type": "code",
      "execution_count": 30,
      "metadata": {
        "id": "Ci7X2OH0HgkI",
        "colab": {
          "base_uri": "https://localhost:8080/"
        },
        "outputId": "13b82bbe-3aa5-4fc1-b71e-908ab6bba68e"
      },
      "outputs": [
        {
          "output_type": "stream",
          "name": "stderr",
          "text": [
            "/usr/local/lib/python3.7/dist-packages/ipykernel_launcher.py:1: FutureWarning: Dropping of nuisance columns in DataFrame reductions (with 'numeric_only=None') is deprecated; in a future version this will raise TypeError.  Select only valid columns before calling the reduction.\n",
            "  \"\"\"Entry point for launching an IPython kernel.\n"
          ]
        },
        {
          "output_type": "execute_result",
          "data": {
            "text/plain": [
              "DESCRIPTION              \n",
              "Interpretive Center    8        8.873846\n",
              "State Natural Area     16      60.459935\n",
              "                       20      43.259877\n",
              "State Nature Preserve  18      27.074837\n",
              "                       19      22.576876\n",
              "State Park             0      121.646320\n",
              "                       1       59.244916\n",
              "                       2      172.046260\n",
              "                       3      191.704775\n",
              "                       4      197.038719\n",
              "                       5      191.356485\n",
              "                       6      307.318430\n",
              "                       7      110.604479\n",
              "                       10    1304.882099\n",
              "                       11      19.125880\n",
              "                       14     161.863751\n",
              "                       15     154.837672\n",
              "                       23     122.974284\n",
              "State Recreation Area  9        8.435126\n",
              "                       12      17.349014\n",
              "                       13      56.816504\n",
              "                       17      11.951375\n",
              "                       21     256.258575\n",
              "                       22     147.953546\n",
              "                       24      13.514253\n",
              "dtype: float64"
            ]
          },
          "metadata": {},
          "execution_count": 30
        }
      ],
      "source": [
        "file1.groupby('DESCRIPTION').apply(lambda dataframe: dataframe.mean(axis=1))"
      ]
    },
    {
      "cell_type": "markdown",
      "metadata": {
        "id": "2XHAwO2nW4DP"
      },
      "source": [
        "## 8)Generate a random sample of 10 rows from the data."
      ]
    },
    {
      "cell_type": "code",
      "execution_count": 16,
      "metadata": {
        "colab": {
          "base_uri": "https://localhost:8080/",
          "height": 359
        },
        "id": "C8T9mdSAsomB",
        "outputId": "96957ce5-e5c6-4382-e0a9-622976cc9253"
      },
      "outputs": [
        {
          "output_type": "execute_result",
          "data": {
            "text/html": [
              "\n",
              "  <div id=\"df-a689eafe-3b36-4c98-b27a-964b2807f637\">\n",
              "    <div class=\"colab-df-container\">\n",
              "      <div>\n",
              "<style scoped>\n",
              "    .dataframe tbody tr th:only-of-type {\n",
              "        vertical-align: middle;\n",
              "    }\n",
              "\n",
              "    .dataframe tbody tr th {\n",
              "        vertical-align: top;\n",
              "    }\n",
              "\n",
              "    .dataframe thead th {\n",
              "        text-align: right;\n",
              "    }\n",
              "</style>\n",
              "<table border=\"1\" class=\"dataframe\">\n",
              "  <thead>\n",
              "    <tr style=\"text-align: right;\">\n",
              "      <th></th>\n",
              "      <th>OBJECTID</th>\n",
              "      <th>UNIT_NAME</th>\n",
              "      <th>DESCRIPTION</th>\n",
              "      <th>ACRES</th>\n",
              "      <th>SHAPE.AREA</th>\n",
              "      <th>SHAPE.LEN</th>\n",
              "    </tr>\n",
              "  </thead>\n",
              "  <tbody>\n",
              "    <tr>\n",
              "      <th>2</th>\n",
              "      <td>23</td>\n",
              "      <td>Fort Abraham Lincoln State Park</td>\n",
              "      <td>State Park</td>\n",
              "      <td>836.47</td>\n",
              "      <td>0.000399</td>\n",
              "      <td>0.119868</td>\n",
              "    </tr>\n",
              "    <tr>\n",
              "      <th>3</th>\n",
              "      <td>24</td>\n",
              "      <td>Fort Ransom State Park</td>\n",
              "      <td>State Park</td>\n",
              "      <td>933.78</td>\n",
              "      <td>0.000444</td>\n",
              "      <td>0.128733</td>\n",
              "    </tr>\n",
              "    <tr>\n",
              "      <th>13</th>\n",
              "      <td>36</td>\n",
              "      <td>Crow Flies High State Recreation Area</td>\n",
              "      <td>State Recreation Area</td>\n",
              "      <td>247.11</td>\n",
              "      <td>0.000120</td>\n",
              "      <td>0.050518</td>\n",
              "    </tr>\n",
              "    <tr>\n",
              "      <th>18</th>\n",
              "      <td>39</td>\n",
              "      <td>Gunlogson State Nature Preserve</td>\n",
              "      <td>State Nature Preserve</td>\n",
              "      <td>95.89</td>\n",
              "      <td>0.000048</td>\n",
              "      <td>0.040465</td>\n",
              "    </tr>\n",
              "    <tr>\n",
              "      <th>21</th>\n",
              "      <td>43</td>\n",
              "      <td>Pembina Gorge State Recreation Area</td>\n",
              "      <td>State Recreation Area</td>\n",
              "      <td>1236.98</td>\n",
              "      <td>0.000615</td>\n",
              "      <td>0.338800</td>\n",
              "    </tr>\n",
              "    <tr>\n",
              "      <th>17</th>\n",
              "      <td>38</td>\n",
              "      <td>Fahlgren Park State Recreation Area</td>\n",
              "      <td>State Recreation Area</td>\n",
              "      <td>21.56</td>\n",
              "      <td>0.000010</td>\n",
              "      <td>0.013294</td>\n",
              "    </tr>\n",
              "    <tr>\n",
              "      <th>20</th>\n",
              "      <td>41</td>\n",
              "      <td>Missouri River State Natural Area</td>\n",
              "      <td>State Natural Area</td>\n",
              "      <td>174.39</td>\n",
              "      <td>0.000083</td>\n",
              "      <td>0.087192</td>\n",
              "    </tr>\n",
              "    <tr>\n",
              "      <th>15</th>\n",
              "      <td>34</td>\n",
              "      <td>Lake Sakakawea State Park</td>\n",
              "      <td>State Park</td>\n",
              "      <td>739.52</td>\n",
              "      <td>0.000357</td>\n",
              "      <td>0.191806</td>\n",
              "    </tr>\n",
              "    <tr>\n",
              "      <th>8</th>\n",
              "      <td>29</td>\n",
              "      <td>Lewis and Clark Interpretive Center</td>\n",
              "      <td>Interpretive Center</td>\n",
              "      <td>14.71</td>\n",
              "      <td>0.000007</td>\n",
              "      <td>0.016774</td>\n",
              "    </tr>\n",
              "    <tr>\n",
              "      <th>16</th>\n",
              "      <td>37</td>\n",
              "      <td>Elkhorn State Natural Area</td>\n",
              "      <td>State Natural Area</td>\n",
              "      <td>264.84</td>\n",
              "      <td>0.000127</td>\n",
              "      <td>0.067082</td>\n",
              "    </tr>\n",
              "  </tbody>\n",
              "</table>\n",
              "</div>\n",
              "      <button class=\"colab-df-convert\" onclick=\"convertToInteractive('df-a689eafe-3b36-4c98-b27a-964b2807f637')\"\n",
              "              title=\"Convert this dataframe to an interactive table.\"\n",
              "              style=\"display:none;\">\n",
              "        \n",
              "  <svg xmlns=\"http://www.w3.org/2000/svg\" height=\"24px\"viewBox=\"0 0 24 24\"\n",
              "       width=\"24px\">\n",
              "    <path d=\"M0 0h24v24H0V0z\" fill=\"none\"/>\n",
              "    <path d=\"M18.56 5.44l.94 2.06.94-2.06 2.06-.94-2.06-.94-.94-2.06-.94 2.06-2.06.94zm-11 1L8.5 8.5l.94-2.06 2.06-.94-2.06-.94L8.5 2.5l-.94 2.06-2.06.94zm10 10l.94 2.06.94-2.06 2.06-.94-2.06-.94-.94-2.06-.94 2.06-2.06.94z\"/><path d=\"M17.41 7.96l-1.37-1.37c-.4-.4-.92-.59-1.43-.59-.52 0-1.04.2-1.43.59L10.3 9.45l-7.72 7.72c-.78.78-.78 2.05 0 2.83L4 21.41c.39.39.9.59 1.41.59.51 0 1.02-.2 1.41-.59l7.78-7.78 2.81-2.81c.8-.78.8-2.07 0-2.86zM5.41 20L4 18.59l7.72-7.72 1.47 1.35L5.41 20z\"/>\n",
              "  </svg>\n",
              "      </button>\n",
              "      \n",
              "  <style>\n",
              "    .colab-df-container {\n",
              "      display:flex;\n",
              "      flex-wrap:wrap;\n",
              "      gap: 12px;\n",
              "    }\n",
              "\n",
              "    .colab-df-convert {\n",
              "      background-color: #E8F0FE;\n",
              "      border: none;\n",
              "      border-radius: 50%;\n",
              "      cursor: pointer;\n",
              "      display: none;\n",
              "      fill: #1967D2;\n",
              "      height: 32px;\n",
              "      padding: 0 0 0 0;\n",
              "      width: 32px;\n",
              "    }\n",
              "\n",
              "    .colab-df-convert:hover {\n",
              "      background-color: #E2EBFA;\n",
              "      box-shadow: 0px 1px 2px rgba(60, 64, 67, 0.3), 0px 1px 3px 1px rgba(60, 64, 67, 0.15);\n",
              "      fill: #174EA6;\n",
              "    }\n",
              "\n",
              "    [theme=dark] .colab-df-convert {\n",
              "      background-color: #3B4455;\n",
              "      fill: #D2E3FC;\n",
              "    }\n",
              "\n",
              "    [theme=dark] .colab-df-convert:hover {\n",
              "      background-color: #434B5C;\n",
              "      box-shadow: 0px 1px 3px 1px rgba(0, 0, 0, 0.15);\n",
              "      filter: drop-shadow(0px 1px 2px rgba(0, 0, 0, 0.3));\n",
              "      fill: #FFFFFF;\n",
              "    }\n",
              "  </style>\n",
              "\n",
              "      <script>\n",
              "        const buttonEl =\n",
              "          document.querySelector('#df-a689eafe-3b36-4c98-b27a-964b2807f637 button.colab-df-convert');\n",
              "        buttonEl.style.display =\n",
              "          google.colab.kernel.accessAllowed ? 'block' : 'none';\n",
              "\n",
              "        async function convertToInteractive(key) {\n",
              "          const element = document.querySelector('#df-a689eafe-3b36-4c98-b27a-964b2807f637');\n",
              "          const dataTable =\n",
              "            await google.colab.kernel.invokeFunction('convertToInteractive',\n",
              "                                                     [key], {});\n",
              "          if (!dataTable) return;\n",
              "\n",
              "          const docLinkHtml = 'Like what you see? Visit the ' +\n",
              "            '<a target=\"_blank\" href=https://colab.research.google.com/notebooks/data_table.ipynb>data table notebook</a>'\n",
              "            + ' to learn more about interactive tables.';\n",
              "          element.innerHTML = '';\n",
              "          dataTable['output_type'] = 'display_data';\n",
              "          await google.colab.output.renderOutput(dataTable, element);\n",
              "          const docLink = document.createElement('div');\n",
              "          docLink.innerHTML = docLinkHtml;\n",
              "          element.appendChild(docLink);\n",
              "        }\n",
              "      </script>\n",
              "    </div>\n",
              "  </div>\n",
              "  "
            ],
            "text/plain": [
              "    OBJECTID                              UNIT_NAME  ... SHAPE.AREA  SHAPE.LEN\n",
              "2         23        Fort Abraham Lincoln State Park  ...   0.000399   0.119868\n",
              "3         24                 Fort Ransom State Park  ...   0.000444   0.128733\n",
              "13        36  Crow Flies High State Recreation Area  ...   0.000120   0.050518\n",
              "18        39        Gunlogson State Nature Preserve  ...   0.000048   0.040465\n",
              "21        43    Pembina Gorge State Recreation Area  ...   0.000615   0.338800\n",
              "17        38    Fahlgren Park State Recreation Area  ...   0.000010   0.013294\n",
              "20        41      Missouri River State Natural Area  ...   0.000083   0.087192\n",
              "15        34              Lake Sakakawea State Park  ...   0.000357   0.191806\n",
              "8         29    Lewis and Clark Interpretive Center  ...   0.000007   0.016774\n",
              "16        37             Elkhorn State Natural Area  ...   0.000127   0.067082\n",
              "\n",
              "[10 rows x 6 columns]"
            ]
          },
          "metadata": {},
          "execution_count": 16
        }
      ],
      "source": [
        "file1.sample(10)\n"
      ]
    },
    {
      "cell_type": "markdown",
      "metadata": {
        "id": "tFberfvNacSK"
      },
      "source": [
        "## 9)Add a Feature called 'New_feature' to the new Dataset and Add Random float Values in between 0 and 1 using Numpy."
      ]
    },
    {
      "cell_type": "code",
      "execution_count": 29,
      "metadata": {
        "colab": {
          "base_uri": "https://localhost:8080/"
        },
        "id": "zgADP-3jYtWA",
        "outputId": "cde20abf-d64c-4b7c-d036-59aabb86317f"
      },
      "outputs": [
        {
          "output_type": "stream",
          "name": "stdout",
          "text": [
            "    OBJECTID  ... New_feature\n",
            "0         21  ...    0.615674\n",
            "1         22  ...    0.984384\n",
            "2         23  ...    0.641035\n",
            "3         24  ...    0.614700\n",
            "4         25  ...    0.737582\n",
            "5         26  ...    0.315251\n",
            "6         27  ...    0.849205\n",
            "7         28  ...    0.081721\n",
            "8         29  ...    0.642449\n",
            "9         30  ...    0.766231\n",
            "10        31  ...    0.163605\n",
            "11        32  ...    0.575352\n",
            "12        35  ...    0.492951\n",
            "13        36  ...    0.921883\n",
            "14        33  ...    0.893159\n",
            "15        34  ...    0.476197\n",
            "16        37  ...    0.392465\n",
            "17        38  ...    0.183571\n",
            "18        39  ...    0.443672\n",
            "19        40  ...    0.550462\n",
            "20        41  ...    0.822108\n",
            "21        43  ...    0.973462\n",
            "22        44  ...    0.640900\n",
            "23        45  ...    0.620889\n",
            "24        42  ...    0.324894\n",
            "\n",
            "[25 rows x 7 columns]\n"
          ]
        }
      ],
      "source": [
        "import random\n",
        "\n",
        "New_feature = pd.Series(np.random.random(len(file1)))\n",
        "\n",
        "# print(file1)\n",
        "# print(New_feature)\n",
        "\n",
        "file1['New_feature'] = New_feature\n",
        "# file1 = file1.assign(New_feature = New_feature)\n",
        "print(file1)\n",
        "file1.to_csv(\"output_of_assignment.csv\")"
      ]
    },
    {
      "cell_type": "markdown",
      "metadata": {
        "id": "SoJvor3YbZnk"
      },
      "source": [
        "## 10) Replace zero value of column 'OBJECTID' with mean value permanently."
      ]
    },
    {
      "cell_type": "code",
      "execution_count": 12,
      "metadata": {
        "colab": {
          "base_uri": "https://localhost:8080/"
        },
        "id": "A2ZCsclRbZLo",
        "outputId": "5876266e-a6e0-4352-c1be-efdf9562b0cf"
      },
      "outputs": [
        {
          "output_type": "execute_result",
          "data": {
            "text/plain": [
              "0     21\n",
              "1     22\n",
              "2     23\n",
              "3     24\n",
              "4     25\n",
              "5     26\n",
              "6     27\n",
              "7     28\n",
              "8     29\n",
              "9     30\n",
              "10    31\n",
              "11    32\n",
              "12    35\n",
              "13    36\n",
              "14    33\n",
              "15    34\n",
              "16    37\n",
              "17    38\n",
              "18    39\n",
              "19    40\n",
              "20    41\n",
              "21    43\n",
              "22    44\n",
              "23    45\n",
              "24    42\n",
              "Name: OBJECTID, dtype: int64"
            ]
          },
          "metadata": {},
          "execution_count": 12
        }
      ],
      "source": [
        "file1.OBJECTID.replace(0,file1.OBJECTID.mean())\n"
      ]
    },
    {
      "cell_type": "code",
      "source": [
        "file1.isna().sum()"
      ],
      "metadata": {
        "colab": {
          "base_uri": "https://localhost:8080/"
        },
        "id": "7ZDmMS5mvI4b",
        "outputId": "c9860b71-65bf-4b65-c69c-be6762651b30"
      },
      "execution_count": 13,
      "outputs": [
        {
          "output_type": "execute_result",
          "data": {
            "text/plain": [
              "OBJECTID       0\n",
              "UNIT_NAME      0\n",
              "DESCRIPTION    0\n",
              "ACRES          0\n",
              "SHAPE.AREA     0\n",
              "SHAPE.LEN      0\n",
              "dtype: int64"
            ]
          },
          "metadata": {},
          "execution_count": 13
        }
      ]
    }
  ],
  "metadata": {
    "colab": {
      "name": "Assignment_PANDAS_NUMPY.ipynb",
      "provenance": [],
      "collapsed_sections": [],
      "include_colab_link": true
    },
    "kernelspec": {
      "display_name": "Python 3",
      "language": "python",
      "name": "python3"
    },
    "language_info": {
      "codemirror_mode": {
        "name": "ipython",
        "version": 3
      },
      "file_extension": ".py",
      "mimetype": "text/x-python",
      "name": "python",
      "nbconvert_exporter": "python",
      "pygments_lexer": "ipython3",
      "version": "3.7.6"
    }
  },
  "nbformat": 4,
  "nbformat_minor": 0
}